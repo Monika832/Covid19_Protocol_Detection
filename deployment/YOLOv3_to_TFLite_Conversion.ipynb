{
 "cells": [
  {
   "cell_type": "markdown",
   "metadata": {
    "id": "jpAVPuboaIhd"
   },
   "source": [
    "**Step 1: Setup TensorFlow 1.x**"
   ]
  },
  {
   "cell_type": "code",
   "execution_count": null,
   "metadata": {},
   "outputs": [],
   "source": []
  },
  {
   "cell_type": "code",
   "execution_count": null,
   "metadata": {},
   "outputs": [],
   "source": []
  },
  {
   "cell_type": "code",
   "execution_count": null,
   "metadata": {},
   "outputs": [],
   "source": []
  },
  {
   "cell_type": "code",
   "execution_count": null,
   "metadata": {},
   "outputs": [],
   "source": []
  },
  {
   "cell_type": "code",
   "execution_count": null,
   "metadata": {},
   "outputs": [],
   "source": []
  },
  {
   "cell_type": "code",
   "execution_count": null,
   "metadata": {},
   "outputs": [],
   "source": []
  },
  {
   "cell_type": "code",
   "execution_count": null,
   "metadata": {},
   "outputs": [],
   "source": []
  },
  {
   "cell_type": "code",
   "execution_count": null,
   "metadata": {},
   "outputs": [],
   "source": []
  },
  {
   "cell_type": "code",
   "execution_count": null,
   "metadata": {
    "id": "XB3UqS5baHy_"
   },
   "outputs": [],
   "source": [
    "!pip install --upgrade tensorflow==1.14.0"
   ]
  },
  {
   "cell_type": "code",
   "execution_count": null,
   "metadata": {
    "id": "NQ3qDgLGQhFN"
   },
   "outputs": [],
   "source": [
    "import tensorflow as tf\n",
    "print(tf.__version__)"
   ]
  },
  {
   "cell_type": "markdown",
   "metadata": {
    "id": "qzO1xAfrZ-Wj"
   },
   "source": [
    "**Step 2: Clone the tensorflow-yolo-v3 repository**"
   ]
  },
  {
   "cell_type": "code",
   "execution_count": null,
   "metadata": {
    "id": "cotKV7UhZpBI"
   },
   "outputs": [],
   "source": [
    "# Clone\n",
    "!git clone https://github.com/mystic123/tensorflow-yolo-v3"
   ]
  },
  {
   "cell_type": "markdown",
   "metadata": {
    "id": "LBGY4wNjdZpV"
   },
   "source": [
    "**Step 3a: Mount Google Drive**"
   ]
  },
  {
   "cell_type": "code",
   "execution_count": null,
   "metadata": {
    "id": "w8G-Y7Y2dgzE"
   },
   "outputs": [],
   "source": [
    "from google.colab import drive\n",
    "drive.mount('/content/gdrive')\n",
    "!ln -s /content/gdrive/My\\ Drive/ /mydrive\n",
    "!ls /mydrive"
   ]
  },
  {
   "cell_type": "markdown",
   "metadata": {
    "id": "08Tx_JntayAM"
   },
   "source": [
    "**Step 3b: Navigate to tensorflow-yolo-v3 repository**"
   ]
  },
  {
   "cell_type": "code",
   "execution_count": null,
   "metadata": {
    "id": "UwJc6V0Kas2a"
   },
   "outputs": [],
   "source": [
    "%cd tensorflow-yolo-v3/"
   ]
  },
  {
   "cell_type": "markdown",
   "metadata": {
    "id": "m_pVLb1Fa7j_"
   },
   "source": [
    "**Step 4: Download .weights and .classes files**"
   ]
  },
  {
   "cell_type": "code",
   "execution_count": null,
   "metadata": {
    "colab": {
     "base_uri": "https://localhost:8080/"
    },
    "id": "0sI-m0JsLtNJ",
    "outputId": "2689f6a5-74e1-409f-98ff-76d4c91ee1b5"
   },
   "outputs": [],
   "source": [
    "!gdown --id <your_classes.txt_file_id>  #classes.txt\n",
    "!gdown --id <your_yolov3_training_last.weights_file_id>  #yolov3_training_last.weights"
   ]
  },
  {
   "cell_type": "markdown",
   "metadata": {
    "id": "uZ2FhhLNa65R"
   },
   "source": [
    "**Step 5: Convert YOLOv3 .weights to .pb**"
   ]
  },
  {
   "cell_type": "code",
   "execution_count": null,
   "metadata": {
    "id": "ejvLzFgCauNQ"
   },
   "outputs": [],
   "source": [
    "!python convert_weights_pb.py --class_names \"../classes.names\" --weights_file \"../yolov4-tiny-obj_final.weights\" --data_format \"NHWC\" "
   ]
  },
  {
   "cell_type": "markdown",
   "metadata": {
    "id": "zaqOLAKCRzXR"
   },
   "source": [
    "**Step 6a: Restart runtime**\n",
    "\n",
    "Click on Runtime on the menu bar and select **Restart runtime.**"
   ]
  },
  {
   "cell_type": "markdown",
   "metadata": {
    "id": "uzIegyxtG036"
   },
   "source": [
    "**Step 6b: Setup TensorFlow 2.x**"
   ]
  },
  {
   "cell_type": "code",
   "execution_count": null,
   "metadata": {
    "id": "fqPnFp40G4LK"
   },
   "outputs": [],
   "source": [
    "%tensorflow_version 2.x"
   ]
  },
  {
   "cell_type": "code",
   "execution_count": null,
   "metadata": {
    "colab": {
     "base_uri": "https://localhost:8080/"
    },
    "id": "ZxxCUjPSG8MK",
    "outputId": "976af35d-abc0-4d26-dbec-7a6dcbed8d78"
   },
   "outputs": [],
   "source": [
    "import tensorflow as tf\n",
    "print(tf.__version__)"
   ]
  },
  {
   "cell_type": "code",
   "execution_count": null,
   "metadata": {
    "id": "jyVdQnElHJ9X"
   },
   "outputs": [],
   "source": [
    "import tempfile\n",
    "import os\n",
    "import glob"
   ]
  },
  {
   "cell_type": "markdown",
   "metadata": {
    "id": "GOgfmKxQHuKz"
   },
   "source": [
    "**Step 7a: Navigate to tensorflow-yolo-v3 repository**"
   ]
  },
  {
   "cell_type": "code",
   "execution_count": null,
   "metadata": {
    "id": "RhHA4a3ZH-I3"
   },
   "outputs": [],
   "source": [
    "%cd tensorflow-yolo-v3/"
   ]
  },
  {
   "cell_type": "markdown",
   "metadata": {
    "id": "NEXaieEgFMrz"
   },
   "source": [
    "**Step 7b: Check input and output nodes of neural network**\n"
   ]
  },
  {
   "cell_type": "code",
   "execution_count": null,
   "metadata": {
    "id": "w5CtnjgUFM6L"
   },
   "outputs": [],
   "source": [
    "import tensorflow.compat.v1 as tf\n",
    "gf = tf.GraphDef()   \n",
    "m_file = open('frozen_darknet_yolov3_model.pb','rb')\n",
    "gf.ParseFromString(m_file.read())\n",
    "\n",
    "with open('somefile.txt', 'a') as the_file:\n",
    "     for n in gf.node:\n",
    "         the_file.write(n.name+'\\n')\n",
    "\n",
    "file = open('somefile.txt','r')\n",
    "data = file.readlines()\n",
    "output = data[len(data)-1]\n",
    "print(\"Output array = \", output)\n",
    "\n",
    "file.seek ( 0 )\n",
    "input=file.readline()\n",
    "print(\"Input array = \", input)"
   ]
  },
  {
   "cell_type": "markdown",
   "metadata": {
    "id": "2WrlQvOulsMR"
   },
   "source": [
    "**Step 8: Convert frozen_darknet_yolov3_model.pb to .tflite**"
   ]
  },
  {
   "cell_type": "code",
   "execution_count": null,
   "metadata": {
    "id": "dU7AODz3SqSv"
   },
   "outputs": [],
   "source": [
    "# Reference: https://github.com/sayakpaul/Adventures-in-TensorFlow-Lite/blob/master/DeepLabV3/DeepLab_TFLite_COCO.ipynb\n",
    "# Load the TensorFlow model\n",
    "# The preprocessing and the post-processing steps should not be included in the TF Lite model graph \n",
    "# because some operations (ArgMax) might not support the delegates. \n",
    "# Insepct the graph using Netron https://lutzroeder.github.io/netron/\n",
    "converter = tf.compat.v1.lite.TFLiteConverter.from_frozen_graph(\n",
    "    graph_def_file='/content/tensorflow-yolo-v3/frozen_darknet_yolov3_model.pb', \n",
    "    input_arrays = ['inputs'],   # Here, 'inputs' is the value of input array from Step 7b\n",
    "    output_arrays = ['output_boxes'], # Here, 'output_boxes' is the value of output array from Step 7b\n",
    "    input_shapes={'inputs': [1, 416, 416, 3]} # Here, 'inputs' is the value of input array from Step 7b\n",
    ")\n",
    "\n",
    "# Optional: Perform the simplest optimization known as post-training dynamic range quantization.\n",
    "# https://www.tensorflow.org/lite/performance/post_training_quantization#dynamic_range_quantization\n",
    "# You can refer to the same document for other types of optimizations.\n",
    "converter.optimizations = [tf.lite.Optimize.DEFAULT]\n",
    "\n",
    "# Convert to TFLite Model\n",
    "tflite_model = converter.convert()\n",
    "\n",
    "_, dynamic_tflite_path = tempfile.mkstemp('.tflite')\n",
    "tflite_model_size = open(dynamic_tflite_path, 'wb').write(tflite_model)\n",
    "tf_model_size = os.path.getsize('/content/tensorflow-yolo-v3/frozen_darknet_yolov3_model.pb')\n",
    "print('TensorFlow Model is  {} bytes'.format(tf_model_size))\n",
    "print('TFLite Model is      {} bytes'.format(tflite_model_size))\n",
    "print('Post training dynamic range quantization saves {} bytes'.format(tf_model_size-tflite_model_size))"
   ]
  },
  {
   "cell_type": "code",
   "execution_count": null,
   "metadata": {
    "id": "AjQjJzhtUldF"
   },
   "outputs": [],
   "source": [
    "!ls -lh {dynamic_tflite_path}"
   ]
  },
  {
   "cell_type": "markdown",
   "metadata": {
    "id": "66xGlBxuKkUW"
   },
   "source": [
    "**Step 9: Move the .tflite model into your Google Drive folder**"
   ]
  },
  {
   "cell_type": "code",
   "execution_count": null,
   "metadata": {
    "id": "YGm8KJnWfT9A"
   },
   "outputs": [],
   "source": [
    "tflite_file = ''\n",
    "tflite_file = tflite_file.join(glob.glob(\"/tmp/*.tflite\")) # Find the temp file of type .tflite\n",
    "tflite_file = tflite_file[5:len(tflite_file)]  # Extract .tflite file name.\n",
    "\n",
    "%cd ..\n",
    "%cd ../tmp\n",
    "os.rename(tflite_file, 'detect.tflite') # Rename the temp .tflite to detect.tflite\n",
    "%mv detect.tflite ../content/gdrive/MyDrive/YOLOv3_TFLite/  # Move detect.tflite to Goolge Drive"
   ]
  },
  {
   "cell_type": "markdown",
   "metadata": {
    "id": "euYv3Mbqn83u"
   },
   "source": [
    "**Step 10: Model Inference**"
   ]
  },
  {
   "cell_type": "code",
   "execution_count": null,
   "metadata": {
    "id": "-627lZJqmG_w"
   },
   "outputs": [],
   "source": [
    "interpreter = tf.lite.Interpreter(model_path='../content/gdrive/MyDrive/YOLOv3_TFLite/detect.tflite')\n",
    "\n",
    "input_details = interpreter.get_input_details()\n",
    "output_details = interpreter.get_output_details()"
   ]
  },
  {
   "cell_type": "code",
   "execution_count": null,
   "metadata": {
    "id": "2cMM4VQCVEIT"
   },
   "outputs": [],
   "source": [
    "input_details"
   ]
  },
  {
   "cell_type": "code",
   "execution_count": null,
   "metadata": {
    "id": "eX6IPE4GVGiO"
   },
   "outputs": [],
   "source": [
    "output_details"
   ]
  },
  {
   "cell_type": "markdown",
   "metadata": {
    "id": "3grKbBqMoRjA"
   },
   "source": [
    "**Step 11: Navigate to Google Drive**"
   ]
  },
  {
   "cell_type": "code",
   "execution_count": null,
   "metadata": {
    "id": "7moYt8mFh8-9"
   },
   "outputs": [],
   "source": [
    "%cd ../content/gdrive/MyDrive/YOLOv3_TFLite/"
   ]
  },
  {
   "cell_type": "markdown",
   "metadata": {
    "id": "DGyM3zmToXPw"
   },
   "source": [
    "**Step 12: Test the model**"
   ]
  },
  {
   "cell_type": "code",
   "execution_count": null,
   "metadata": {
    "id": "E_Uw2xgih9tp"
   },
   "outputs": [],
   "source": [
    "!python test_tflite.py"
   ]
  }
 ],
 "metadata": {
  "colab": {
   "collapsed_sections": [],
   "name": "YOLOv3_to_TFLite_Conversion.ipynb",
   "provenance": []
  },
  "kernelspec": {
   "display_name": "Python 3",
   "language": "python",
   "name": "python3"
  },
  "language_info": {
   "codemirror_mode": {
    "name": "ipython",
    "version": 3
   },
   "file_extension": ".py",
   "mimetype": "text/x-python",
   "name": "python",
   "nbconvert_exporter": "python",
   "pygments_lexer": "ipython3",
   "version": "3.8.8"
  }
 },
 "nbformat": 4,
 "nbformat_minor": 1
}
