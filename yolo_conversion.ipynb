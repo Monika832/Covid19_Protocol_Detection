{
 "cells": [
  {
   "cell_type": "code",
   "execution_count": 1,
   "metadata": {
    "id": "xbMzlRpPoPIs"
   },
   "outputs": [],
   "source": [
    "import os\n",
    "import pathlib\n",
    "import numpy as np\n",
    "from PIL import Image\n",
    "from matplotlib import pyplot as plt"
   ]
  },
  {
   "cell_type": "code",
   "execution_count": null,
   "metadata": {
    "colab": {
     "base_uri": "https://localhost:8080/"
    },
    "id": "_3PZUBoCpR3w",
    "outputId": "547ebb16-e986-4b67-b592-1ad3a397f01f"
   },
   "outputs": [
    {
     "data": {
      "text/plain": [
       "853"
      ]
     },
     "execution_count": 2,
     "metadata": {},
     "output_type": "execute_result"
    }
   ],
   "source": [
    "len(os.listdir(\"images\"))"
   ]
  },
  {
   "cell_type": "code",
   "execution_count": 3,
   "metadata": {
    "colab": {
     "base_uri": "https://localhost:8080/"
    },
    "id": "O8CCT4nSuPBB",
    "outputId": "3fb1de78-7846-4cd5-ee88-c3b1b56384cf"
   },
   "outputs": [
    {
     "name": "stdout",
     "output_type": "stream",
     "text": [
      "Collecting xmltodict\n",
      "  Downloading xmltodict-0.12.0-py2.py3-none-any.whl (9.2 kB)\n",
      "Installing collected packages: xmltodict\n"
     ]
    },
    {
     "name": "stderr",
     "output_type": "stream",
     "text": [
      "WARNING: You are using pip version 21.3.1; however, version 22.0.4 is available.\n",
      "You should consider upgrading via the 'C:\\Users\\lenovo\\AppData\\Local\\Programs\\Python\\Python39\\python.exe -m pip install --upgrade pip' command.\n"
     ]
    },
    {
     "name": "stdout",
     "output_type": "stream",
     "text": [
      "Successfully installed xmltodict-0.12.0\n"
     ]
    }
   ],
   "source": [
    "!pip install xmltodict"
   ]
  },
  {
   "cell_type": "code",
   "execution_count": 4,
   "metadata": {
    "id": "arTM1_hxuUYv"
   },
   "outputs": [],
   "source": [
    "import xmltodict"
   ]
  },
  {
   "cell_type": "code",
   "execution_count": 5,
   "metadata": {
    "id": "wUsdX2DpxXAK"
   },
   "outputs": [],
   "source": [
    "object_dict = {\n",
    "    \"with_mask\":1,\n",
    "    \"without_mask\":0\n",
    "}"
   ]
  },
  {
   "cell_type": "code",
   "execution_count": 6,
   "metadata": {
    "id": "TJsPvjDYqfre"
   },
   "outputs": [],
   "source": [
    "def PASCAL_to_YOLO(label):\n",
    "  lbl = xmltodict.parse(label)\n",
    "  width = int(lbl['annotation']['size']['width'])\n",
    "  height = int(lbl['annotation']['size']['height'])\n",
    "  objects = list(lbl['annotation']['object'])\n",
    "  yolo_labels = []\n",
    "  for obj in objects:\n",
    "    cls = obj['name']\n",
    "    if cls not in object_dict.keys():\n",
    "      continue\n",
    "    obj_class = object_dict[obj['name']]\n",
    "    xmin = int(obj['bndbox']['xmin'])\n",
    "    ymin = int(obj['bndbox']['ymin'])\n",
    "    xmax = int(obj['bndbox']['xmax'])\n",
    "    ymax = int(obj['bndbox']['ymax'])\n",
    "    img_wd = (xmax-xmin)\n",
    "    img_ht = (ymax-ymin)\n",
    "    img_x = (xmin+xmax)//2\n",
    "    img_y = (ymin+ymax)//2\n",
    "    yolo_labels.append(f\"{obj_class} {img_x/width} {img_y/height} {img_wd/width} {img_ht/height}\\n\")\n",
    "  return yolo_labels"
   ]
  },
  {
   "cell_type": "code",
   "execution_count": 7,
   "metadata": {
    "colab": {
     "base_uri": "https://localhost:8080/"
    },
    "id": "PsTyDnHny6zq",
    "outputId": "4cf9161b-b1f4-4c4f-9c03-12b4b8754a5d"
   },
   "outputs": [
    {
     "name": "stdout",
     "output_type": "stream",
     "text": [
      "['0 0.18359375 0.3360655737704918 0.05859375 0.10109289617486339\\n', '1 0.400390625 0.3333333333333333 0.080078125 0.12021857923497267\\n', '0 0.66796875 0.31420765027322406 0.068359375 0.13934426229508196\\n']\n"
     ]
    }
   ],
   "source": [
    "with open(\"annotations/maksssksksss0.xml\",\"r\") as f:\n",
    "  lbl = f.read()\n",
    "  print(PASCAL_to_YOLO(lbl))"
   ]
  },
  {
   "cell_type": "code",
   "execution_count": 8,
   "metadata": {
    "id": "GrHpkneAzSdh"
   },
   "outputs": [],
   "source": [
    "annotations_path = pathlib.Path(\"annotations\").glob(\"*.xml\")\n",
    "images_path = pathlib.Path(\"images\").glob(\"*.png\")"
   ]
  },
  {
   "cell_type": "code",
   "execution_count": 9,
   "metadata": {
    "id": "n0nxknmhz2-e"
   },
   "outputs": [],
   "source": [
    "annotations = list(map(lambda x:str(x),annotations_path))\n",
    "images = list(map(lambda x:str(x),images_path))"
   ]
  },
  {
   "cell_type": "code",
   "execution_count": 10,
   "metadata": {
    "colab": {
     "base_uri": "https://localhost:8080/"
    },
    "id": "trauDUkIz7FF",
    "outputId": "a904be6c-728f-43c7-9027-f1df8ff88fbb"
   },
   "outputs": [
    {
     "data": {
      "text/plain": [
       "(853, 853)"
      ]
     },
     "execution_count": 10,
     "metadata": {},
     "output_type": "execute_result"
    }
   ],
   "source": [
    "len(annotations),len(images)"
   ]
  },
  {
   "cell_type": "code",
   "execution_count": 11,
   "metadata": {
    "id": "oMjUjF55z8B2"
   },
   "outputs": [],
   "source": [
    "annotations.sort()\n",
    "images.sort()"
   ]
  },
  {
   "cell_type": "code",
   "execution_count": 12,
   "metadata": {
    "colab": {
     "base_uri": "https://localhost:8080/"
    },
    "id": "Posg13rX0kpa",
    "outputId": "3dcc200c-4789-4003-a781-48b94d3bc03d"
   },
   "outputs": [
    {
     "data": {
      "text/plain": [
       "(['annotations\\\\maksssksksss0.xml',\n",
       "  'annotations\\\\maksssksksss1.xml',\n",
       "  'annotations\\\\maksssksksss10.xml',\n",
       "  'annotations\\\\maksssksksss100.xml',\n",
       "  'annotations\\\\maksssksksss101.xml'],\n",
       " ['images\\\\maksssksksss0.png',\n",
       "  'images\\\\maksssksksss1.png',\n",
       "  'images\\\\maksssksksss10.png',\n",
       "  'images\\\\maksssksksss100.png',\n",
       "  'images\\\\maksssksksss101.png'])"
      ]
     },
     "execution_count": 12,
     "metadata": {},
     "output_type": "execute_result"
    }
   ],
   "source": [
    "annotations[:5],images[:5]"
   ]
  },
  {
   "cell_type": "code",
   "execution_count": 13,
   "metadata": {
    "id": "l78Q2tWo1ZW9"
   },
   "outputs": [],
   "source": [
    "import shutil"
   ]
  },
  {
   "cell_type": "code",
   "execution_count": 22,
   "metadata": {
    "id": "h-JtIeyZ1gS1"
   },
   "outputs": [],
   "source": [
    "os.mkdir(\"obj\")"
   ]
  },
  {
   "cell_type": "code",
   "execution_count": 35,
   "metadata": {
    "id": "blJGNQia0n4q"
   },
   "outputs": [],
   "source": [
    "def process_file(image_file,label_file):\n",
    "  shutil.copy(image_file,\"obj\")\n",
    "  file_name = image_file.split(\"\\\\\")[-1].split(\".\")[0]\n",
    "  with open(label_file,\"r\") as f:\n",
    "    label = f.read()\n",
    "  with open(\"obj\\\\\"+file_name+\".txt\",\"w\") as f:\n",
    "    f.writelines(PASCAL_to_YOLO(label))"
   ]
  },
  {
   "cell_type": "code",
   "execution_count": 36,
   "metadata": {
    "colab": {
     "base_uri": "https://localhost:8080/"
    },
    "id": "mCM5kpAF2P78",
    "outputId": "0dd6d7fc-ecb2-4875-ce25-dc8846623051"
   },
   "outputs": [
    {
     "name": "stdout",
     "output_type": "stream",
     "text": [
      "501 files processed Successfully\n"
     ]
    }
   ],
   "source": [
    "for idx,(image_file,label_file) in enumerate(zip(images,annotations)):\n",
    "  if idx%500 == 0 and idx!=0:\n",
    "    print(f\"{idx+1} files processed Successfully\")\n",
    "  try:\n",
    "    process_file(image_file,label_file)\n",
    "  except Exception as e:\n",
    "    pass"
   ]
  },
  {
   "cell_type": "code",
   "execution_count": 37,
   "metadata": {
    "colab": {
     "base_uri": "https://localhost:8080/"
    },
    "id": "VHBgNvkN39YX",
    "outputId": "f5f15cda-215e-4a6f-b169-5d4f2aeef208"
   },
   "outputs": [
    {
     "data": {
      "text/plain": [
       "1706"
      ]
     },
     "execution_count": 37,
     "metadata": {},
     "output_type": "execute_result"
    }
   ],
   "source": [
    "len(os.listdir(\"obj\"))"
   ]
  },
  {
   "cell_type": "code",
   "execution_count": null,
   "metadata": {
    "id": "VV0gbcyV5Mve"
   },
   "outputs": [],
   "source": []
  }
 ],
 "metadata": {
  "colab": {
   "collapsed_sections": [],
   "name": "yolo_format_conversion.ipynb",
   "provenance": []
  },
  "kernelspec": {
   "display_name": "Python 3 (ipykernel)",
   "language": "python",
   "name": "python3"
  },
  "language_info": {
   "codemirror_mode": {
    "name": "ipython",
    "version": 3
   },
   "file_extension": ".py",
   "mimetype": "text/x-python",
   "name": "python",
   "nbconvert_exporter": "python",
   "pygments_lexer": "ipython3",
   "version": "3.9.7"
  }
 },
 "nbformat": 4,
 "nbformat_minor": 4
}
